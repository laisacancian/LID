{
  "cells": [
    {
      "cell_type": "code",
      "execution_count": 3,
      "id": "2b1950b7",
      "metadata": {
        "ExecuteTime": {
          "end_time": "2023-10-17T12:17:08.850897+00:00",
          "start_time": "2023-10-17T12:17:08.694699+00:00"
        },
        "noteable": {
          "output_collection_id": "820b9b96-6d18-4a31-9fc7-dedcbaebdead"
        }
      },
      "outputs": [
        {
          "name": "stdout",
          "output_type": "stream",
          "text": [
            "1\n",
            "junction_ini_1.ini\n",
            "junction_inp_1.inp\n",
            "junction_inp_1.inp.out.pdf\n",
            "junction_inp_1.inp.out\n",
            "junction_inp_1.inp.out.txt\n",
            "junction_inp_1.inp.rpt\n",
            "2\n",
            "junction_ini_2.ini\n",
            "junction_inp_2.inp\n",
            "junction_inp_2.inp.out.pdf\n",
            "junction_inp_2.inp.out\n",
            "junction_inp_2.inp.out.txt\n",
            "junction_inp_2.inp.rpt\n",
            "3\n",
            "junction_ini_3.ini\n",
            "junction_inp_3.inp\n",
            "junction_inp_3.inp.out.pdf\n",
            "junction_inp_3.inp.out\n",
            "junction_inp_3.inp.out.txt\n",
            "junction_inp_3.inp.rpt\n",
            "4\n",
            "junction_ini_4.ini\n",
            "junction_inp_4.inp\n",
            "junction_inp_4.inp.out.pdf\n",
            "junction_inp_4.inp.out\n",
            "junction_inp_4.inp.out.txt\n",
            "junction_inp_4.inp.rpt\n",
            "5\n",
            "junction_ini_5.ini\n",
            "junction_inp_5.inp\n",
            "junction_inp_5.inp.out.pdf\n",
            "junction_inp_5.inp.out\n",
            "junction_inp_5.inp.out.txt\n",
            "junction_inp_5.inp.rpt\n",
            "6\n",
            "junction_ini_6.ini\n",
            "junction_inp_6.inp\n",
            "junction_inp_6.inp.out.pdf\n",
            "junction_inp_6.inp.out\n",
            "junction_inp_6.inp.out.txt\n",
            "junction_inp_6.inp.rpt\n",
            "7\n",
            "junction_ini_7.ini\n",
            "junction_inp_7.inp\n",
            "junction_inp_7.inp.out.pdf\n",
            "junction_inp_7.inp.out\n",
            "junction_inp_7.inp.out.txt\n",
            "junction_inp_7.inp.rpt\n",
            "8\n",
            "junction_ini_8.ini\n",
            "junction_inp_8.inp\n",
            "junction_inp_8.inp.out.pdf\n",
            "junction_inp_8.inp.out\n",
            "junction_inp_8.inp.out.txt\n",
            "junction_inp_8.inp.rpt\n"
          ]
        }
      ],
      "source": [
        "import os\n",
        "\n",
        "cont = 0 # contador de arquivos\n",
        "n = 8 # numero de arquivos\n",
        "for i in range(n):\n",
        "    cont = cont + 1\n",
        "    print(cont)\n",
        "    print(f\"junction_ini_{cont}.ini\")\n",
        "    os.remove(f\"junction_ini_{cont}.ini\")\n",
        "    print(f\"junction_inp_{cont}.inp\")\n",
        "    os.remove(f\"junction_inp_{cont}.inp\")\n",
        "    print(f\"junction_inp_{cont}.inp.out.pdf\")\n",
        "    os.remove(f\"junction_inp_{cont}.inp.out.pdf\")\n",
        "    print(f\"junction_inp_{cont}.inp.out\")\n",
        "    os.remove(f\"junction_inp_{cont}.inp.out\")\n",
        "    print(f\"junction_inp_{cont}.inp.out.txt\")\n",
        "    os.remove(f\"junction_inp_{cont}.inp.out.txt\")\n",
        "    print(f\"junction_inp_{cont}.inp.rpt\")\n",
        "    os.remove(f\"junction_inp_{cont}.inp.rpt\")\n",
        "    "
      ]
    },
    {
      "cell_type": "code",
      "execution_count": 4,
      "id": "1c1eb62d-244e-4898-901e-60319a6eb98c",
      "metadata": {
        "ExecuteTime": {
          "end_time": "2023-10-17T12:17:09.048919+00:00",
          "start_time": "2023-10-17T12:17:08.894013+00:00"
        },
        "jupyter": {
          "outputs_hidden": false,
          "source_hidden": false
        },
        "noteable": {
          "cell_type": "code",
          "output_collection_id": "41133e48-2567-4c5f-912e-1366af7efd44"
        }
      },
      "outputs": [
        {
          "name": "stdout",
          "output_type": "stream",
          "text": [
            "junction_inp_0.inp.out\n",
            "junction_inp_0.inp.rpt\n",
            "K_value.txt\n",
            "output.txt\n",
            "arquivo3.txt\n",
            "junction_inp_0.inp.out.pdf\n",
            "junction_inp_0.inp.out.txt\n"
          ]
        }
      ],
      "source": [
        "print(\"junction_inp_0.inp.out\")\n",
        "os.remove(f\"junction_inp_0.inp.out\")\n",
        "print(\"junction_inp_0.inp.rpt\")\n",
        "os.remove(f\"junction_inp_0.inp.rpt\")\n",
        "print(\"K_value.txt\")\n",
        "os.remove(f\"K_value.txt\")\n",
        "print(\"output.txt\")\n",
        "os.remove(f\"output.txt\")\n",
        "print(\"arquivo3.txt\")\n",
        "os.remove(f\"arquivo3.txt\")\n",
        "os.remove(f\"junction_inp_0.inp.out.pdf\")\n",
        "print(\"junction_inp_0.inp.out.pdf\")\n",
        "print(\"junction_inp_0.inp.out.txt\")\n",
        "os.remove(f\"junction_inp_0.inp.out.txt\")\n"
      ]
    },
    {
      "cell_type": "code",
      "execution_count": null,
      "id": "e78d5238",
      "metadata": {},
      "outputs": [],
      "source": []
    }
  ],
  "metadata": {
    "kernel_info": {
      "name": "python3"
    },
    "kernelspec": {
      "display_name": "pyswmm",
      "language": "python",
      "name": "python3"
    },
    "language_info": {
      "codemirror_mode": {
        "name": "ipython",
        "version": 3
      },
      "file_extension": ".py",
      "mimetype": "text/x-python",
      "name": "python",
      "nbconvert_exporter": "python",
      "pygments_lexer": "ipython3",
      "version": "3.13.5"
    },
    "selected_hardware_size": "small"
  },
  "nbformat": 4,
  "nbformat_minor": 5
}
